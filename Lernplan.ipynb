{
 "cells": [
  {
   "cell_type": "markdown",
   "metadata": {},
   "source": [
    "## Franks Lernplan"
   ]
  },
  {
   "cell_type": "markdown",
   "metadata": {},
   "source": [
    "Hier stelle ich meine Empfehlungen für einen Weg ins Thema Data Science / Machine Learning und Künstliche Intelligenz vor.\n",
    "Die meisten Ressourcen habe ich selbst benutzt. Manche Inhalte hingegen sind Hilfen (Cheat Sheets), die ich selbst immer wieder verwendet.\n",
    "Noch weitere Dinge sind mir empfohlen worden und will ich noch ausprobieren (z.B. Lernspiele).\n",
    "\n",
    "Auf meinem Blog http://frankwolf.blog werde ich gelegentlich über absolvierte und neue Lerninhalte von mir schreiben.\n",
    "\n",
    "Viel Spaß beim Lernen!"
   ]
  },
  {
   "cell_type": "markdown",
   "metadata": {},
   "source": [
    "## Kurse\n",
    "\n",
    "### Statistik (20h)\n",
    "* EdX\n",
    "    * https://courses.edx.org/courses/course-v1:MITx+6.041x_4+1T2017/course/\n",
    "    \n",
    "### Data Analysis (16h)\n",
    "* Udacity\n",
    "    * https://classroom.udacity.com/courses/ud170\n",
    "    \n",
    "### Machine Learning\n",
    "* Prof. Andrew Ng. Coursera\n",
    "    * https://www.coursera.org/learn/machine-learning\n",
    "* Udacity (60h)\n",
    "    * https://classroom.udacity.com/courses/ud120\n",
    "    * https://classroom.udacity.com/courses/ud262"
   ]
  },
  {
   "cell_type": "markdown",
   "metadata": {},
   "source": [
    "### Cheat Sheets\n",
    "\n",
    "Linear Algebra\n",
    "http://www.souravsengupta.com/cds2016/lectures/Savov_Notes.pdf\n",
    "\n",
    "Calculus\n",
    "http://tutorial.math.lamar.edu/pdf/Calculus_Cheat_Sheet_All.pdf\n",
    "\n",
    "Wahrscheinlichkeitsrechnung\n",
    "https://static1.squarespace.com/static/54bf3241e4b0f0d81bf7ff36/t/55e9494fe4b011aed10e48e5/1441352015658/probability_cheatsheet.pdf\n",
    "\n",
    "Statistik\n",
    "http://web.mit.edu/~csvoss/Public/usabo/stats_handout.pdf"
   ]
  },
  {
   "cell_type": "markdown",
   "metadata": {},
   "source": [
    "### Lernspiele:\n",
    "    \n",
    "Calculus (Demo - Stand Juli 2018)\n",
    "https://triseum.com/variant-limits/\n",
    "\n",
    "Machine Learning (Early Access - Stand Juli 2018)\n",
    "https://store.steampowered.com/app/619150/while_True_learn/\n"
   ]
  },
  {
   "cell_type": "markdown",
   "metadata": {},
   "source": [
    "### Challenges\n",
    "\n",
    "Brilliant.org\n",
    "https://brilliant.org/\n",
    "    \n"
   ]
  },
  {
   "cell_type": "markdown",
   "metadata": {},
   "source": [
    "### Anderer Leute Lernpläne:\n",
    "    \n",
    "Mathematik\n",
    "https://github.com/llSourcell/learn_math_fast#learn-to-learn"
   ]
  },
  {
   "cell_type": "markdown",
   "metadata": {},
   "source": [
    "## YouTube Channels:\n",
    "\n",
    "### CodingTrain \n",
    "Javascript, Java, p5, a lot of fun projects, visualization, Machine Learning\n",
    "https://www.youtube.com/channel/UCvjgXvBlbQiydffZU7m1_aw\n",
    "\n",
    "### Siraj Rival\n",
    "Deep Learning, Block Chain, Machine Learning\n",
    "https://www.youtube.com/channel/UCWN3xxRkmTPmbKwht9FuE5A\n",
    "\n",
    "### Deep Lizard\n",
    "Machine Learning\n",
    "https://www.youtube.com/channel/UC4UJ26WkceqONNF5S26OiVw\n",
    "\n",
    "### 3Blue1Brown\n",
    "Mathematik\n",
    "https://www.youtube.com/channel/UCYO_jab_esuFRV4b17AJtAw\n",
    "\n",
    "### Data Science with Python\n",
    "Aurélien Géron\n",
    "https://www.youtube.com/channel/UCCvGd1WBMpFQ_vtC89VF2qA\n",
    "\n",
    "### Deep Mind\n",
    "https://www.youtube.com/channel/UCP7jMXSY2xbc3KCAE0MHQ-A\n",
    "\n",
    "### Deeplearning.ai\n",
    "https://www.youtube.com/channel/UCcIXc5mJsHVYTZR1maL5l9w/videos\n",
    "\n",
    "### Mathloger\n",
    "Mathematik\n",
    "https://www.youtube.com/channel/UC1_uAIS3r8Vu6JjXWvastJg\n",
    "\n",
    "### Mapbox\n",
    "Kartenvisualisierungen\n",
    "https://www.youtube.com/channel/UCIHl9sd2brgvjBlSETKYDcg\n",
    "\n",
    "### Computer Vision Foundation\n",
    "https://www.youtube.com/channel/UC0n76gicaarsN_Y9YShWwhw/videos\n",
    "\n",
    "### The Construct\n",
    "ROS, Robotics\n",
    "https://www.youtube.com/channel/UCt6Lag-vv25fTX3e11mVY1Q/playlists\n",
    "\n",
    "### Sentdex\n",
    "Machine Learning, \n",
    "https://www.youtube.com/user/sentdex/playlists"
   ]
  },
  {
   "cell_type": "code",
   "execution_count": null,
   "metadata": {},
   "outputs": [],
   "source": []
  }
 ],
 "metadata": {
  "kernelspec": {
   "display_name": "Python 3",
   "language": "python",
   "name": "python3"
  },
  "language_info": {
   "codemirror_mode": {
    "name": "ipython",
    "version": 3
   },
   "file_extension": ".py",
   "mimetype": "text/x-python",
   "name": "python",
   "nbconvert_exporter": "python",
   "pygments_lexer": "ipython3",
   "version": "3.6.5"
  }
 },
 "nbformat": 4,
 "nbformat_minor": 2
}
