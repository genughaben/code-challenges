{
 "cells": [
  {
   "cell_type": "markdown",
   "metadata": {},
   "source": [
    "## Franks Lernplan"
   ]
  },
  {
   "cell_type": "markdown",
   "metadata": {},
   "source": [
    "Hier stelle ich meine Empfehlungen für einen Weg ins Thema Data Science / Machine Learning und Künstliche Intelligenz vor.\n",
    "Die meisten Ressourcen habe ich selbst benutzt. Manche Inhalte hingegen sind Hilfen (Cheat Sheets), die ich selbst immer wieder verwendet.\n",
    "Noch weitere Dinge sind mir empfohlen worden und will ich noch ausprobieren (z.B. Lernspiele).\n",
    "\n",
    "Auf meinem Blog http://frankwolf.blog werde ich gelegentlich über absolvierte und neue Lerninhalte von mir schreiben.\n",
    "\n",
    "Viel Spaß beim Lernen!"
   ]
  },
  {
   "cell_type": "markdown",
   "metadata": {},
   "source": [
    "### Kurse\n",
    "\n",
    "* Statistik (20h)\n",
    "    * https://courses.edx.org/courses/course-v1:MITx+6.041x_4+1T2017/course/\n",
    "* Data Analysis (16h)\n",
    "    * https://classroom.udacity.com/courses/ud170\n",
    "* Machine Learning (60h)\n",
    "    * https://classroom.udacity.com/courses/ud120\n",
    "    * https://classroom.udacity.com/courses/ud262"
   ]
  },
  {
   "cell_type": "markdown",
   "metadata": {},
   "source": [
    "### Cheat Sheets\n",
    "\n",
    "Linear Algebra\n",
    "http://www.souravsengupta.com/cds2016/lectures/Savov_Notes.pdf\n",
    "\n",
    "Calculus\n",
    "http://tutorial.math.lamar.edu/pdf/Calculus_Cheat_Sheet_All.pdf\n",
    "\n",
    "Wahrscheinlichkeitsrechnung\n",
    "https://static1.squarespace.com/static/54bf3241e4b0f0d81bf7ff36/t/55e9494fe4b011aed10e48e5/1441352015658/probability_cheatsheet.pdf\n",
    "\n",
    "Statistik\n",
    "http://web.mit.edu/~csvoss/Public/usabo/stats_handout.pdf"
   ]
  },
  {
   "cell_type": "markdown",
   "metadata": {},
   "source": [
    "### Lernspiele:\n",
    "    \n",
    "Calculus (Demo - Stand Juli 2018)\n",
    "https://triseum.com/variant-limits/\n",
    "\n",
    "Machine Learning (Early Access - Stand Juli 2018)\n",
    "https://store.steampowered.com/app/619150/while_True_learn/\n"
   ]
  },
  {
   "cell_type": "markdown",
   "metadata": {},
   "source": [
    "### Challenges\n",
    "\n",
    "Brilliant.org\n",
    "https://brilliant.org/\n",
    "    \n"
   ]
  },
  {
   "cell_type": "markdown",
   "metadata": {},
   "source": [
    "### Anderer Leute Lernpläne:\n",
    "    \n",
    "Mathematik\n",
    "https://github.com/llSourcell/learn_math_fast#learn-to-learn"
   ]
  }
 ],
 "metadata": {
  "kernelspec": {
   "display_name": "Python 3",
   "language": "python",
   "name": "python3"
  },
  "language_info": {
   "codemirror_mode": {
    "name": "ipython",
    "version": 3
   },
   "file_extension": ".py",
   "mimetype": "text/x-python",
   "name": "python",
   "nbconvert_exporter": "python",
   "pygments_lexer": "ipython3",
   "version": "3.6.5"
  }
 },
 "nbformat": 4,
 "nbformat_minor": 2
}
